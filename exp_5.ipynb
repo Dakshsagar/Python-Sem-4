{
  "cells": [
    {
      "cell_type": "markdown",
      "source": [
        "Daksh Sagar\n",
        "SE3/27"
      ],
      "metadata": {
        "id": "M37BB9m3TWWI"
      },
      "id": "M37BB9m3TWWI"
    },
    {
      "cell_type": "markdown",
      "id": "6a427a71-bdd0-4d02-8de6-9c523d0e1953",
      "metadata": {
        "id": "6a427a71-bdd0-4d02-8de6-9c523d0e1953"
      },
      "source": [
        "### Stack"
      ]
    },
    {
      "cell_type": "code",
      "execution_count": null,
      "id": "312d2253-cfe8-4dab-8d9c-f23e328524e0",
      "metadata": {
        "id": "312d2253-cfe8-4dab-8d9c-f23e328524e0",
        "outputId": "e48cb068-6cd0-4f02-cccc-fabc734a8547"
      },
      "outputs": [
        {
          "name": "stdout",
          "output_type": "stream",
          "text": [
            "Initial Stack\n",
            "['a', 'b', 'c']\n"
          ]
        }
      ],
      "source": [
        "stack = list ()\n",
        "\n",
        "# Append Operation\n",
        "stack.append ('a')\n",
        "stack.append ('b')\n",
        "stack.append ('c')\n",
        "print ('Initial Stack')\n",
        "print (stack)"
      ]
    },
    {
      "cell_type": "code",
      "execution_count": null,
      "id": "b3337f3f-2969-4587-895b-a7c985dbd88e",
      "metadata": {
        "id": "b3337f3f-2969-4587-895b-a7c985dbd88e",
        "outputId": "ef1c0174-17a9-49f7-de76-0baec7fdf1a6"
      },
      "outputs": [
        {
          "name": "stdout",
          "output_type": "stream",
          "text": [
            "c\n",
            "b\n",
            "a\n",
            "[]\n"
          ]
        }
      ],
      "source": [
        "# Pop Operation\n",
        "print (stack.pop ())\n",
        "print (stack.pop ())\n",
        "print (stack.pop ())\n",
        "print (stack)"
      ]
    },
    {
      "cell_type": "code",
      "execution_count": null,
      "id": "19942dce-8407-4871-a318-b92278b573aa",
      "metadata": {
        "id": "19942dce-8407-4871-a318-b92278b573aa"
      },
      "outputs": [],
      "source": [
        "'''\n",
        "Given a valid parentheses string stringInput, return the nesting depth of stringInput.\n",
        "The nesting depth is the maximum number of nested parentheses.\n",
        "\n",
        "Example 1:\n",
        "Input: s = \"(1+(2*3)+((8)/4))+1\"\n",
        "Output: 3\n",
        "Explanation:\n",
        "Digit 8 is inside of 3 nested parentheses in the string.\n",
        "\n",
        "Example 2:\n",
        "Input: s = \"(1)+((2))+(((3)))\"\n",
        "Output: 3\n",
        "Explanation:\n",
        "Digit 3 is inside of 3 nested parentheses in the string.\n",
        "\n",
        "Example 3:\n",
        "Input: s = \"()(())((()()))\"\n",
        "Output: 3\n",
        "'''"
      ]
    },
    {
      "cell_type": "code",
      "source": [
        "class StackDepth:\n",
        "    def maxDepth(self, s: str) -> int:  # Make sure 'self' is included\n",
        "        max_depth = 0\n",
        "        current_depth = 0\n",
        "\n",
        "        for char in s:\n",
        "            if char == '(':\n",
        "                current_depth += 1\n",
        "                max_depth = max(max_depth, current_depth)\n",
        "            elif char == ')':\n",
        "                current_depth -= 1\n",
        "\n",
        "        return max_depth\n",
        "\n",
        "\n",
        "string = StackDepth()\n",
        "\n",
        "print(string.maxDepth(\"(1+(2*3)+((8)/4))+1\"))\n",
        "print(string.maxDepth(\"(1)+((2))+(((3)))\"))\n",
        "print(string.maxDepth(\"()(())((()()))\"))"
      ],
      "metadata": {
        "colab": {
          "base_uri": "https://localhost:8080/"
        },
        "id": "x5KsfLOdKY1O",
        "outputId": "92b22a84-7ac8-42f1-f144-8ba3d42c89d6"
      },
      "id": "x5KsfLOdKY1O",
      "execution_count": 3,
      "outputs": [
        {
          "output_type": "stream",
          "name": "stdout",
          "text": [
            "3\n",
            "3\n",
            "3\n"
          ]
        }
      ]
    }
  ],
  "metadata": {
    "kernelspec": {
      "display_name": "Python 3 (ipykernel)",
      "language": "python",
      "name": "python3"
    },
    "language_info": {
      "codemirror_mode": {
        "name": "ipython",
        "version": 3
      },
      "file_extension": ".py",
      "mimetype": "text/x-python",
      "name": "python",
      "nbconvert_exporter": "python",
      "pygments_lexer": "ipython3",
      "version": "3.11.5"
    },
    "colab": {
      "provenance": []
    }
  },
  "nbformat": 4,
  "nbformat_minor": 5
}