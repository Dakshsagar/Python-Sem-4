{
  "metadata": {
    "kernelspec": {
      "name": "python",
      "display_name": "Python (Pyodide)",
      "language": "python"
    },
    "language_info": {
      "codemirror_mode": {
        "name": "python",
        "version": 3
      },
      "file_extension": ".py",
      "mimetype": "text/x-python",
      "name": "python",
      "nbconvert_exporter": "python",
      "pygments_lexer": "ipython3",
      "version": "3.8"
    },
    "colab": {
      "provenance": []
    }
  },
  "nbformat_minor": 5,
  "nbformat": 4,
  "cells": [
    {
      "cell_type": "markdown",
      "source": [
        "**Name:Daksh Sagar**\n",
        "**Roll No:27**\n",
        "**Batch:SE3_S2**"
      ],
      "metadata": {
        "id": "EyEppZxAFqIY"
      },
      "id": "EyEppZxAFqIY"
    },
    {
      "id": "fe35492f-e20c-4d8c-aa41-f55e13bbc0e8",
      "cell_type": "code",
      "source": [
        "from contextlib import contextmanager\n",
        "\n",
        "@contextmanager\n",
        "def genericFileFunction (filename, method):\n",
        "    file = open (filename, method)\n",
        "    yield file\n",
        "    file.close ()\n",
        "\n",
        "if __name__ == '__main__':\n",
        "    with genericFileFunction('./Daksh.txt','w') as file:\n",
        "        file.write(\"Hello World!\\n\")\n",
        "        print(\"RightNow I Am Writing In This Daksh.txt File\\n\")\n",
        "\n",
        "    with genericFileFunction('./Daksh.txt','r') as file:\n",
        "        content = file.read()\n",
        "        print(content)\n",
        "\n",
        "    with genericFileFunction('./Daksh.txt','a') as file:\n",
        "        file.write(\"My name is Daksh Sagar. \\n\")\n",
        "\n",
        "    with genericFileFunction('./Daksh.txt','r') as file:\n",
        "        new_content = file.read()\n",
        "        print(new_content)\n",
        "\n",
        "\n",
        "\n",
        "    # Remove the pass and call the function to perform write.\n",
        "    # Read the file that was created while writing.\n",
        "    # Make the changes in the file by appending some material.\n",
        "    # Again read the same file.\n",
        "\n",
        "    '''\n",
        "    Print all the output of the function.\n",
        "    For better representation, please use jupyter.\n",
        "    Will also aid in easy maintanence of files for submissions.\n",
        "    '''"
      ],
      "metadata": {
        "trusted": true,
        "colab": {
          "base_uri": "https://localhost:8080/"
        },
        "id": "fe35492f-e20c-4d8c-aa41-f55e13bbc0e8",
        "outputId": "0142c4d4-4ee1-4fac-9467-7be29e967695"
      },
      "outputs": [
        {
          "output_type": "stream",
          "name": "stdout",
          "text": [
            "RightNow I Am Writing In This Daksh.txt File\n",
            "\n",
            "Hello World!\n",
            "\n",
            "Hello World!\n",
            "My name is Daksh Sagar. \n",
            "\n"
          ]
        }
      ],
      "execution_count": 1
    }
  ]
}